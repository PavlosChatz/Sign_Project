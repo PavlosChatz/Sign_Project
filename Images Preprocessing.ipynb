{
 "cells": [
  {
   "cell_type": "code",
   "execution_count": 2,
   "metadata": {},
   "outputs": [],
   "source": [
    "import matplotlib.pyplot as plt\n",
    "import numpy as np\n",
    "import os\n",
    "from PIL import Image\n",
    "import csv"
   ]
  },
  {
   "cell_type": "code",
   "execution_count": 3,
   "metadata": {},
   "outputs": [],
   "source": [
    "def data_preprocessing_augmentation(load_dir, save_dir, rotations_degrees = [-8, -4, 0, 4, 8], crops = 5, crop_box_percentage = 0.8, resize_size = (32, 32), to_greyscale = False, save_csv_only = True ):\n",
    "    \"\"\"\n",
    "    Loads Images and performs the following Preprocessing and Augmentation steps using Image module of Pillow library: \n",
    "    1. Creates rotations of each image. \n",
    "    2. Crops a centered version of each rotated image. \n",
    "    3. Crops random sub-images of each centered image.\n",
    "    4. Resizes the final Images.\n",
    "    5. Saves the output in a csv file and optionally as .jpg files.\n",
    "    \n",
    "    Arguments:\n",
    "    load_dir - str -- Specifies the directory to load from\n",
    "    save_dir - str -- Specifies the directory to save to\n",
    "    rotations_degrees - int list -- A list of rotations in degrees that specifies the rotation of the produced images \n",
    "    crops - int -- The number of random sub- crops generated for each image\n",
    "    crop_box_percentage - float -- The percentage (0-1) of the size of the box of the sub- cropped image w.r.t. the original centered image\n",
    "    resize_size - int 2-tuple -- Target size of the final images\n",
    "    to_greyscale - bool -- If set to true, converts the image to greyscale mode\n",
    "    save_csv_only - bool -- If set to false, also saves the final images in addition to the csv file\n",
    "    \n",
    "    Returns: \n",
    "    None\n",
    "    \"\"\"\n",
    "    np.random.seed(1)\n",
    "    csv_file = open(save_dir + \"/dataset.csv\", \"w\")\n",
    "    csv_writer = csv.writer(csv_file)\n",
    "    \n",
    "    #### Loads the images\n",
    "    n= -1 \n",
    "    fnames = [os.path.join(load_dir, fname) for fname in os.listdir(load_dir) ]\n",
    "    for fname in fnames:\n",
    "        image = Image.open(fname)\n",
    "        n += 1\n",
    "        \n",
    "        #### Getting Rotations of images\n",
    "        image_rotations = {}\n",
    "        for rotation in rotations_degrees:\n",
    "            image_rotations[str(rotation)] = image.rotate(rotation)\n",
    "            \n",
    "            #### Cropping centered images\n",
    "            (width, height) = image.size\n",
    "            crop_box = ( width * 1.5 // 5., height * 0.8 // 4., width * 3.5 // 5., height * 3. // 4.)\n",
    "            image_crop = image_rotations[str(rotation)].crop( box = crop_box )\n",
    "    \n",
    "            #### Cropping Sub- Images\n",
    "            (width, height) = image_crop.size\n",
    "            box_percentage = crop_box_percentage\n",
    "            offset_max_width = int( ( 1 - box_percentage) * width )\n",
    "            offset_max_height  = int ( ( 1 - box_percentage) * height )\n",
    "\n",
    "            image_sub_crops = {}\n",
    "            for i in range(crops):\n",
    "                offset_w = np.random.rand() * offset_max_width\n",
    "                offset_h = np.random.rand() * offset_max_height\n",
    "                crop_box = ( offset_w, offset_h, box_percentage * width + offset_w, box_percentage * height + offset_h )\n",
    "                image_sub_crops[\"crop_\" + str(i)] = image_crop.crop(box = crop_box ) \n",
    "                \n",
    "                #### Resize Images and optionally converts to greyscale\n",
    "                target_size = resize_size\n",
    "                image_resized = image_sub_crops[\"crop_\" + str(i)].resize( size = target_size)\n",
    "                if (to_greyscale == True):\n",
    "                    image_resized = image_resized.convert('L')\n",
    "                \n",
    "                ### Save Image\n",
    "                multiplier_bool = int(n > 239 )\n",
    "                label = (n - 240 * multiplier_bool ) // 10 \n",
    "                index = n % 10 + 10 * multiplier_bool #derived from which of 20 original images\n",
    "            \n",
    "                if ( save_csv_only == False):\n",
    "                    image_resized.save(save_dir+ \"/\"+ str(label)+ \"_\"+ str(index)+ \"_rotation\"+ str(rotation)+ \"_crop\"+ str(i)+ \".jpg\")\n",
    "                \n",
    "                image_array_flattened = np.array(image_resized, dtype = str).flatten()\n",
    "                label_image_array = np.insert( image_array_flattened, 0, str(label) )\n",
    "                csv_writer.writerow(label_image_array)\n",
    "    csv_file.close()\n",
    "    return "
   ]
  },
  {
   "cell_type": "code",
   "execution_count": 5,
   "metadata": {
    "scrolled": true
   },
   "outputs": [],
   "source": [
    "#### Performing the Data Preprocessing and Augmentation of the Sign Language Dataset\n",
    "data_preprocessing_augmentation(\"Greek_Sign_Language_Dataset_Raw_Images\", \"Greek_Sign_Language_Dataset_Augmented\", rotations_degrees = [-8, -4, 0, 4, 8], crops = 5, crop_box_percentage = 0.85, resize_size = (32, 32), to_greyscale = False, save_csv_only = False)"
   ]
  },
  {
   "cell_type": "code",
   "execution_count": 4,
   "metadata": {},
   "outputs": [
    {
     "ename": "PermissionError",
     "evalue": "[Errno 13] Permission denied",
     "output_type": "error",
     "traceback": [
      "\u001b[1;31m---------------------------------------------------------------------------\u001b[0m",
      "\u001b[1;31mPermissionError\u001b[0m                           Traceback (most recent call last)",
      "\u001b[1;32m<ipython-input-4-701d3a19d792>\u001b[0m in \u001b[0;36m<module>\u001b[1;34m\u001b[0m\n\u001b[1;32m----> 1\u001b[1;33m \u001b[0mdata_preprocessing_augmentation\u001b[0m\u001b[1;33m(\u001b[0m\u001b[1;34m\"Greek_Sign_Language_Dataset_Raw_Images\"\u001b[0m\u001b[1;33m,\u001b[0m \u001b[1;34m\"Greek_Sign_Language_Dataset_Augmented_Greyscale\"\u001b[0m\u001b[1;33m,\u001b[0m \u001b[0mrotations_degrees\u001b[0m \u001b[1;33m=\u001b[0m \u001b[1;33m[\u001b[0m\u001b[1;33m-\u001b[0m\u001b[1;36m8\u001b[0m\u001b[1;33m,\u001b[0m \u001b[1;33m-\u001b[0m\u001b[1;36m4\u001b[0m\u001b[1;33m,\u001b[0m \u001b[1;36m0\u001b[0m\u001b[1;33m,\u001b[0m \u001b[1;36m4\u001b[0m\u001b[1;33m,\u001b[0m \u001b[1;36m8\u001b[0m\u001b[1;33m]\u001b[0m\u001b[1;33m,\u001b[0m \u001b[0mcrops\u001b[0m \u001b[1;33m=\u001b[0m \u001b[1;36m5\u001b[0m\u001b[1;33m,\u001b[0m \u001b[0mcrop_box_percentage\u001b[0m \u001b[1;33m=\u001b[0m \u001b[1;36m0.85\u001b[0m\u001b[1;33m,\u001b[0m \u001b[0mresize_size\u001b[0m \u001b[1;33m=\u001b[0m \u001b[1;33m(\u001b[0m\u001b[1;36m32\u001b[0m\u001b[1;33m,\u001b[0m \u001b[1;36m32\u001b[0m\u001b[1;33m)\u001b[0m\u001b[1;33m,\u001b[0m \u001b[0mto_greyscale\u001b[0m \u001b[1;33m=\u001b[0m \u001b[1;32mTrue\u001b[0m\u001b[1;33m,\u001b[0m \u001b[0msave_csv_only\u001b[0m \u001b[1;33m=\u001b[0m \u001b[1;32mTrue\u001b[0m \u001b[1;33m)\u001b[0m\u001b[1;33m\u001b[0m\u001b[0m\n\u001b[0m",
      "\u001b[1;32m<ipython-input-3-bb2d7ce42a48>\u001b[0m in \u001b[0;36mdata_preprocessing_augmentation\u001b[1;34m(load_dir, save_dir, rotations_degrees, crops, crop_box_percentage, resize_size, to_greyscale, save_csv_only)\u001b[0m\n\u001b[0;32m     71\u001b[0m                 \u001b[0mimage_array_flattened\u001b[0m \u001b[1;33m=\u001b[0m \u001b[0mnp\u001b[0m\u001b[1;33m.\u001b[0m\u001b[0marray\u001b[0m\u001b[1;33m(\u001b[0m\u001b[0mimage_resized\u001b[0m\u001b[1;33m,\u001b[0m \u001b[0mdtype\u001b[0m \u001b[1;33m=\u001b[0m \u001b[0mstr\u001b[0m\u001b[1;33m)\u001b[0m\u001b[1;33m.\u001b[0m\u001b[0mflatten\u001b[0m\u001b[1;33m(\u001b[0m\u001b[1;33m)\u001b[0m\u001b[1;33m\u001b[0m\u001b[0m\n\u001b[0;32m     72\u001b[0m                 \u001b[0mlabel_image_array\u001b[0m \u001b[1;33m=\u001b[0m \u001b[0mnp\u001b[0m\u001b[1;33m.\u001b[0m\u001b[0minsert\u001b[0m\u001b[1;33m(\u001b[0m \u001b[0mimage_array_flattened\u001b[0m\u001b[1;33m,\u001b[0m \u001b[1;36m0\u001b[0m\u001b[1;33m,\u001b[0m \u001b[0mstr\u001b[0m\u001b[1;33m(\u001b[0m\u001b[0mlabel\u001b[0m\u001b[1;33m)\u001b[0m \u001b[1;33m)\u001b[0m\u001b[1;33m\u001b[0m\u001b[0m\n\u001b[1;32m---> 73\u001b[1;33m                 \u001b[0mcsv_writer\u001b[0m\u001b[1;33m.\u001b[0m\u001b[0mwriterow\u001b[0m\u001b[1;33m(\u001b[0m\u001b[0mlabel_image_array\u001b[0m\u001b[1;33m)\u001b[0m\u001b[1;33m\u001b[0m\u001b[0m\n\u001b[0m\u001b[0;32m     74\u001b[0m     \u001b[0mcsv_file\u001b[0m\u001b[1;33m.\u001b[0m\u001b[0mclose\u001b[0m\u001b[1;33m(\u001b[0m\u001b[1;33m)\u001b[0m\u001b[1;33m\u001b[0m\u001b[0m\n\u001b[0;32m     75\u001b[0m     \u001b[1;32mreturn\u001b[0m\u001b[1;33m\u001b[0m\u001b[0m\n",
      "\u001b[1;31mPermissionError\u001b[0m: [Errno 13] Permission denied"
     ]
    }
   ],
   "source": [
    "data_preprocessing_augmentation(\"Greek_Sign_Language_Dataset_Raw_Images\", \"Greek_Sign_Language_Dataset_Augmented_Greyscale\", rotations_degrees = [-8, -4, 0, 4, 8], crops = 5, crop_box_percentage = 0.85, resize_size = (32, 32), to_greyscale = True, save_csv_only = True )"
   ]
  },
  {
   "cell_type": "code",
   "execution_count": null,
   "metadata": {},
   "outputs": [],
   "source": []
  }
 ],
 "metadata": {
  "kernelspec": {
   "display_name": "Python 3",
   "language": "python",
   "name": "python3"
  },
  "language_info": {
   "codemirror_mode": {
    "name": "ipython",
    "version": 3
   },
   "file_extension": ".py",
   "mimetype": "text/x-python",
   "name": "python",
   "nbconvert_exporter": "python",
   "pygments_lexer": "ipython3",
   "version": "3.5.2"
  }
 },
 "nbformat": 4,
 "nbformat_minor": 2
}
